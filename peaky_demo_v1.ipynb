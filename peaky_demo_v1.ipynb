{
 "cells": [
  {
   "cell_type": "code",
   "execution_count": 15,
   "metadata": {},
   "outputs": [
    {
     "name": "stdout",
     "output_type": "stream",
     "text": [
      "The autoreload extension is already loaded. To reload it, use:\n",
      "  %reload_ext autoreload\n"
     ]
    }
   ],
   "source": [
    "%load_ext autoreload\n",
    "%autoreload 2"
   ]
  },
  {
   "cell_type": "code",
   "execution_count": 11,
   "metadata": {},
   "outputs": [],
   "source": [
    "%reload_ext autoreload"
   ]
  },
  {
   "cell_type": "code",
   "execution_count": 1,
   "metadata": {},
   "outputs": [],
   "source": [
    "import numpy as np\n",
    "import matplotlib.pyplot as plt\n",
    "\n",
    "from peaky_maker import PeakyMaker\n",
    "from peaky_finder import PeakyFinder\n",
    "from peaky_indexer import PeakyIndexer"
   ]
  },
  {
   "cell_type": "code",
   "execution_count": 2,
   "metadata": {},
   "outputs": [],
   "source": [
    "maker = PeakyMaker(dbpath='db')"
   ]
  },
  {
   "cell_type": "code",
   "execution_count": 3,
   "metadata": {},
   "outputs": [],
   "source": [
    "fracs = np.zeros(92)\n",
    "fracs[2] = 1 # lithium, element 3\n",
    "maker_x, maker_y, _ = maker.peak_maker(fracs=fracs, voigt_sig=0.01, voigt_gam=0.0)"
   ]
  },
  {
   "cell_type": "code",
   "execution_count": 4,
   "metadata": {},
   "outputs": [
    {
     "data": {
      "text/plain": [
       "Text(0, 0.5, 'intensity (au)')"
      ]
     },
     "execution_count": 4,
     "metadata": {},
     "output_type": "execute_result"
    },
    {
     "data": {
      "image/png": "[encoded data removed]",
      "text/plain": [
       "<Figure size 2000x500 with 1 Axes>"
      ]
     },
     "metadata": {},
     "output_type": "display_data"
    }
   ],
   "source": [
    "plt.figure(figsize=(20,5))\n",
    "plt.plot(maker_x, maker_y)\n",
    "plt.xlabel('emission wavelength (nm)')\n",
    "plt.ylabel('intensity (au)')\n",
    "# plt.xlim([670,672])"
   ]
  },
  {
   "cell_type": "code",
   "execution_count": 5,
   "metadata": {},
   "outputs": [],
   "source": [
    "path = '/Users/mwhittaker/Library/CloudStorage/GoogleDrive-mwhittaker@lbl.gov/My Drive/Postdocs/Xuan Cao/Data/LIBS/MW2-112/raw/'\n",
    "finder = PeakyFinder(path)\n",
    "indexer = PeakyIndexer(finder)"
   ]
  },
  {
   "cell_type": "code",
   "execution_count": 6,
   "metadata": {},
   "outputs": [
    {
     "data": {
      "text/plain": [
       "[['Si',\n",
       "  np.float64(4.0),\n",
       "  np.float64(670.306),\n",
       "  670.9,\n",
       "  np.float64(0.8382675142732077),\n",
       "  np.float64(8.911690158753862)],\n",
       " ['Cs',\n",
       "  np.float64(3.0),\n",
       "  np.float64(671.0082),\n",
       "  670.9,\n",
       "  np.float64(0.9941849731002569),\n",
       "  np.float64(8.509202522331103)],\n",
       " ['Pt',\n",
       "  np.float64(1.0),\n",
       "  np.float64(671.22524),\n",
       "  670.9,\n",
       "  np.float64(0.9485578504064089),\n",
       "  np.float64(8.477121254719663)],\n",
       " ['V',\n",
       "  np.float64(2.0),\n",
       "  np.float64(670.4375),\n",
       "  670.9,\n",
       "  np.float64(0.8987754978514481),\n",
       "  np.float64(8.146128035678238)],\n",
       " ['V',\n",
       "  np.float64(2.0),\n",
       "  np.float64(671.7035),\n",
       "  670.9,\n",
       "  np.float64(0.7238232834661388),\n",
       "  np.float64(8.079181246047625)],\n",
       " ['S',\n",
       "  np.float64(5.0),\n",
       "  np.float64(671.8579),\n",
       "  670.9,\n",
       "  np.float64(0.6319898152979792),\n",
       "  np.float64(8.056904851336473)],\n",
       " ['Si',\n",
       "  np.float64(2.0),\n",
       "  np.float64(671.883),\n",
       "  670.9,\n",
       "  np.float64(0.6168406834545472),\n",
       "  np.float64(8.03342375548695)],\n",
       " ['Si',\n",
       "  np.float64(4.0),\n",
       "  np.float64(670.31),\n",
       "  670.9,\n",
       "  np.float64(0.8402548838638864),\n",
       "  np.float64(7.958085848521085)],\n",
       " ['Y',\n",
       "  np.float64(1.0),\n",
       "  np.float64(670.25521),\n",
       "  670.9,\n",
       "  np.float64(0.8121968841874431),\n",
       "  np.float64(7.944482672150168)],\n",
       " ['La',\n",
       "  np.float64(1.0),\n",
       "  np.float64(671.133),\n",
       "  670.9,\n",
       "  np.float64(0.9732206009864462),\n",
       "  np.float64(7.940516484932568)],\n",
       " ['Si',\n",
       "  np.float64(2.0),\n",
       "  np.float64(670.13),\n",
       "  670.9,\n",
       "  np.float64(0.743452798974763),\n",
       "  np.float64(7.924279286061882)],\n",
       " ['N',\n",
       "  np.float64(5.0),\n",
       "  np.float64(671.84),\n",
       "  670.9,\n",
       "  np.float64(0.6428781982384391),\n",
       "  np.float64(7.814247595731921)],\n",
       " ['Ne',\n",
       "  np.float64(1.0),\n",
       "  np.float64(671.88974),\n",
       "  670.9,\n",
       "  np.float64(0.6125957636304715),\n",
       "  np.float64(7.813580988568192)],\n",
       " ['Ce',\n",
       "  np.float64(1.0),\n",
       "  np.float64(670.6123),\n",
       "  670.9,\n",
       "  np.float64(0.9593761974989273),\n",
       "  np.float64(7.523746466811565)],\n",
       " ['Fe',\n",
       "  np.float64(2.0),\n",
       "  np.float64(671.07316),\n",
       "  670.9,\n",
       "  np.float64(0.9851469116976692),\n",
       "  np.float64(7.518513939877887)],\n",
       " ['Hg',\n",
       "  np.float64(2.0),\n",
       "  np.float64(670.3882),\n",
       "  670.9,\n",
       "  np.float64(0.8771546169850066),\n",
       "  np.float64(7.505149978319906)],\n",
       " ['V',\n",
       "  np.float64(2.0),\n",
       "  np.float64(671.2955),\n",
       "  670.9,\n",
       "  np.float64(0.9245871180336532),\n",
       "  np.float64(7.301029995663981)],\n",
       " ['Ce',\n",
       "  np.float64(2.0),\n",
       "  np.float64(670.7902),\n",
       "  670.9,\n",
       "  np.float64(0.9939682643982328),\n",
       "  np.float64(7.283301228703549)],\n",
       " ['N',\n",
       "  np.float64(1.0),\n",
       "  np.float64(670.7958),\n",
       "  670.9,\n",
       "  np.float64(0.9946065969067959),\n",
       "  np.float64(7.17897694729317)],\n",
       " ['Kr',\n",
       "  np.float64(1.0),\n",
       "  np.float64(670.10793),\n",
       "  670.9,\n",
       "  np.float64(0.7307879086327429),\n",
       "  np.float64(7.071882007306125)],\n",
       " ['N',\n",
       "  np.float64(1.0),\n",
       "  np.float64(671.0611),\n",
       "  670.9,\n",
       "  np.float64(0.9871231256136708),\n",
       "  np.float64(6.88309335857569)],\n",
       " ['O',\n",
       "  np.float64(4.0),\n",
       "  np.float64(671.051),\n",
       "  670.9,\n",
       "  np.float64(0.9886642394458786),\n",
       "  np.float64(6.847572659142112)],\n",
       " ['N',\n",
       "  np.float64(1.0),\n",
       "  np.float64(670.2344),\n",
       "  670.9,\n",
       "  np.float64(0.8010931872831905),\n",
       "  np.float64(6.778151250383644)],\n",
       " ['N',\n",
       "  np.float64(1.0),\n",
       "  np.float64(670.669),\n",
       "  670.9,\n",
       "  np.float64(0.9736722801267759),\n",
       "  np.float64(6.776701183988411)],\n",
       " ['Be',\n",
       "  np.float64(1.0),\n",
       "  np.float64(671.33),\n",
       "  670.9,\n",
       "  np.float64(0.9116947945645655),\n",
       "  np.float64(6.658964842664435)],\n",
       " ['F',\n",
       "  np.float64(1.0),\n",
       "  np.float64(671.013),\n",
       "  670.9,\n",
       "  np.float64(0.9936358376152659),\n",
       "  np.float64(6.639486489268586)],\n",
       " ['Ne',\n",
       "  np.float64(7.0),\n",
       "  np.float64(671.0),\n",
       "  670.9,\n",
       "  np.float64(0.9950124791926801),\n",
       "  np.float64(6.60422605308447)],\n",
       " ['Be',\n",
       "  np.float64(1.0),\n",
       "  np.float64(671.4),\n",
       "  670.9,\n",
       "  np.float64(0.8824969025845955),\n",
       "  np.float64(6.38738982633873)],\n",
       " ['Al',\n",
       "  np.float64(1.0),\n",
       "  np.float64(670.0517),\n",
       "  670.9,\n",
       "  np.float64(0.6979889550888079),\n",
       "  np.float64(6.301029995663981)],\n",
       " ['Cs',\n",
       "  np.float64(3.0),\n",
       "  np.float64(670.2536),\n",
       "  670.9,\n",
       "  np.float64(0.8116727802714496),\n",
       "  np.float64(6.264817823009537)],\n",
       " ['Ta',\n",
       "  np.float64(1.0),\n",
       "  np.float64(670.823),\n",
       "  670.9,\n",
       "  np.float64(0.9970398897912084),\n",
       "  np.float64(6.113943352306837)],\n",
       " ['N',\n",
       "  np.float64(1.0),\n",
       "  np.float64(671.4967),\n",
       "  670.9,\n",
       "  np.float64(0.8367712862625524),\n",
       "  np.float64(6.075546961392531)],\n",
       " ['Fe',\n",
       "  np.float64(1.0),\n",
       "  np.float64(670.09905),\n",
       "  670.9,\n",
       "  np.float64(0.7255679873657273),\n",
       "  np.float64(6.071882007306125)],\n",
       " ['O',\n",
       "  np.float64(4.0),\n",
       "  np.float64(671.051),\n",
       "  670.9,\n",
       "  np.float64(0.9886642394458786),\n",
       "  np.float64(6.041392685158225)],\n",
       " ['Fe',\n",
       "  np.float64(2.0),\n",
       "  np.float64(670.33982),\n",
       "  670.9,\n",
       "  np.float64(0.8548750167246956),\n",
       "  np.float64(6.041392685158225)],\n",
       " ['Be',\n",
       "  np.float64(1.0),\n",
       "  np.float64(671.43),\n",
       "  670.9,\n",
       "  np.float64(0.8689671122022083),\n",
       "  np.float64(6.037426497940624)],\n",
       " ['O',\n",
       "  np.float64(3.0),\n",
       "  np.float64(670.922),\n",
       "  670.9,\n",
       "  np.float64(0.999758029279637),\n",
       "  np.float64(5.981818607170664)],\n",
       " ['O',\n",
       "  np.float64(3.0),\n",
       "  np.float64(671.134),\n",
       "  670.9,\n",
       "  np.float64(0.9729933805051448),\n",
       "  np.float64(5.9661417327390325)],\n",
       " ['Al',\n",
       "  np.float64(2.0),\n",
       "  np.float64(670.11634),\n",
       "  670.9,\n",
       "  np.float64(0.7354093470779514),\n",
       "  np.float64(5.913283901760418)],\n",
       " ['Be',\n",
       "  np.float64(1.0),\n",
       "  np.float64(671.43),\n",
       "  670.9,\n",
       "  np.float64(0.8689671122022083),\n",
       "  np.float64(5.911690158753861)],\n",
       " ['Be',\n",
       "  np.float64(1.0),\n",
       "  np.float64(671.41),\n",
       "  670.9,\n",
       "  np.float64(0.8780515272466204),\n",
       "  np.float64(5.911157608739977)],\n",
       " ['Hg',\n",
       "  np.float64(1.0),\n",
       "  np.float64(671.822),\n",
       "  670.9,\n",
       "  np.float64(0.6537423273754733),\n",
       "  np.float64(5.857332496431268)],\n",
       " ['Ar',\n",
       "  np.float64(1.0),\n",
       "  np.float64(670.0723),\n",
       "  670.9,\n",
       "  np.float64(0.7097858316601864),\n",
       "  np.float64(5.681241237375588)],\n",
       " ['V',\n",
       "  np.float64(1.0),\n",
       "  np.float64(670.99616),\n",
       "  670.9,\n",
       "  np.float64(0.9954026005433146),\n",
       "  np.float64(5.544068044350276)],\n",
       " ['C',\n",
       "  np.float64(1.0),\n",
       "  np.float64(671.31725),\n",
       "  670.9,\n",
       "  np.float64(0.9167279726237719),\n",
       "  np.float64(5.477121254719663)],\n",
       " ['Al',\n",
       "  np.float64(2.0),\n",
       "  np.float64(670.26977),\n",
       "  670.9,\n",
       "  np.float64(0.820000769753911),\n",
       "  np.float64(5.437750562820388)],\n",
       " ['Fr',\n",
       "  np.float64(1.0),\n",
       "  np.float64(671.239),\n",
       "  670.9,\n",
       "  np.float64(0.9441591839376174),\n",
       "  np.float64(5.2405492482825995)],\n",
       " ['Fe',\n",
       "  np.float64(1.0),\n",
       "  np.float64(670.54164),\n",
       "  670.9,\n",
       "  np.float64(0.9379280862742723),\n",
       "  np.float64(5.113943352306837)],\n",
       " ['Ar',\n",
       "  np.float64(1.0),\n",
       "  np.float64(670.032),\n",
       "  670.9,\n",
       "  np.float64(0.6861136461743815),\n",
       "  np.float64(4.8750612633917)],\n",
       " ['W',\n",
       "  np.float64(1.0),\n",
       "  np.float64(671.5105),\n",
       "  670.9,\n",
       "  np.float64(0.8302320823400013),\n",
       "  np.float64(4.838849090737256)],\n",
       " ['Be',\n",
       "  np.float64(1.0),\n",
       "  np.float64(671.45),\n",
       "  670.9,\n",
       "  np.float64(0.85963276360251),\n",
       "  np.float64(4.734799829588847)],\n",
       " ['Cr',\n",
       "  np.float64(4.0),\n",
       "  np.float64(670.02),\n",
       "  670.9,\n",
       "  np.float64(0.6789552902885707),\n",
       "  np.float64(-0.8860566476931632)]]"
      ]
     },
     "execution_count": 6,
     "metadata": {},
     "output_type": "execute_result"
    }
   ],
   "source": [
    "indexer.peak_interference(670.9, ground_state=False)"
   ]
  },
  {
   "cell_type": "code",
   "execution_count": 7,
   "metadata": {},
   "outputs": [],
   "source": [
    "finder.data.load_data()"
   ]
  },
  {
   "cell_type": "code",
   "execution_count": 8,
   "metadata": {},
   "outputs": [],
   "source": [
    "testwavelength = finder.data.data[10,0]\n",
    "testdata = finder.data.data[10, 1]"
   ]
  },
  {
   "cell_type": "code",
   "execution_count": 9,
   "metadata": {},
   "outputs": [
    {
     "name": "stdout",
     "output_type": "stream",
     "text": [
      "fourier peaks done\n",
      "fit peaks done\n"
     ]
    },
    {
     "ename": "ValueError",
     "evalue": "setting an array element with a sequence. The requested array has an inhomogeneous shape after 1 dimensions. The detected shape was (4,) + inhomogeneous part.",
     "output_type": "error",
     "traceback": [
      "\u001b[0;31m---------------------------------------------------------------------------\u001b[0m",
      "\u001b[0;31mValueError\u001b[0m                                Traceback (most recent call last)",
      "Cell \u001b[0;32mIn[9], line 1\u001b[0m\n\u001b[0;32m----> 1\u001b[0m finder_dict \u001b[38;5;241m=\u001b[39m \u001b[43mfinder\u001b[49m\u001b[38;5;241;43m.\u001b[39;49m\u001b[43mfit_spectrum_data\u001b[49m\u001b[43m(\u001b[49m\u001b[38;5;241;43m25\u001b[39;49m\u001b[43m,\u001b[49m\u001b[43m \u001b[49m\u001b[43mn_sigma\u001b[49m\u001b[38;5;241;43m=\u001b[39;49m\u001b[38;5;241;43m1\u001b[39;49m\u001b[43m)\u001b[49m\n",
      "File \u001b[0;32m~/Projects/github/alibz/peaky_finder.py:949\u001b[0m, in \u001b[0;36mPeakyFinder.fit_spectrum_data\u001b[0;34m(self, s, n_sigma, subtract_background, plot, *kwargs)\u001b[0m\n\u001b[1;32m    947\u001b[0m     x \u001b[38;5;241m=\u001b[39m data[\u001b[38;5;241m0\u001b[39m]\n\u001b[1;32m    948\u001b[0m     y \u001b[38;5;241m=\u001b[39m data[\u001b[38;5;241m1\u001b[39m]\n\u001b[0;32m--> 949\u001b[0m     fit_dict \u001b[38;5;241m=\u001b[39m \u001b[38;5;28;43mself\u001b[39;49m\u001b[38;5;241;43m.\u001b[39;49m\u001b[43mfit_spectrum\u001b[49m\u001b[43m(\u001b[49m\u001b[43mx\u001b[49m\u001b[43m,\u001b[49m\u001b[43m \u001b[49m\u001b[43my\u001b[49m\u001b[43m,\u001b[49m\u001b[43m \u001b[49m\u001b[43mn_sigma\u001b[49m\u001b[38;5;241;43m=\u001b[39;49m\u001b[43mn_sigma\u001b[49m\u001b[43m,\u001b[49m\u001b[43m \u001b[49m\u001b[43msubtract_background\u001b[49m\u001b[38;5;241;43m=\u001b[39;49m\u001b[43msubtract_background\u001b[49m\u001b[43m,\u001b[49m\u001b[43m \u001b[49m\u001b[43mplot\u001b[49m\u001b[38;5;241;43m=\u001b[39;49m\u001b[43mplot\u001b[49m\u001b[43m,\u001b[49m\u001b[43m \u001b[49m\u001b[38;5;241;43m*\u001b[39;49m\u001b[43mkwargs\u001b[49m\u001b[43m)\u001b[49m\n\u001b[1;32m    951\u001b[0m \u001b[38;5;28;01melif\u001b[39;00m \u001b[38;5;28misinstance\u001b[39m(s, \u001b[38;5;28mslice\u001b[39m):\n\u001b[1;32m    952\u001b[0m     data_length \u001b[38;5;241m=\u001b[39m \u001b[38;5;28mlen\u001b[39m(data)\n",
      "File \u001b[0;32m~/Projects/github/alibz/peaky_finder.py:862\u001b[0m, in \u001b[0;36mPeakyFinder.fit_spectrum\u001b[0;34m(self, x, y, n_sigma, subtract_background, plot, *kwargs)\u001b[0m\n\u001b[1;32m    859\u001b[0m profile[profile_outliers] \u001b[38;5;241m=\u001b[39m \u001b[38;5;241m0\u001b[39m\n\u001b[1;32m    860\u001b[0m residual_data \u001b[38;5;241m=\u001b[39m y_bgsub \u001b[38;5;241m-\u001b[39m profile\n\u001b[0;32m--> 862\u001b[0m peak_dictionary, new_peak_indices \u001b[38;5;241m=\u001b[39m \u001b[38;5;28;43mself\u001b[39;49m\u001b[38;5;241;43m.\u001b[39;49m\u001b[43mfit_shoulders\u001b[49m\u001b[43m(\u001b[49m\u001b[43mx\u001b[49m\u001b[43m,\u001b[49m\u001b[43m \u001b[49m\u001b[43my_bgsub\u001b[49m\u001b[43m,\u001b[49m\u001b[43m \u001b[49m\u001b[43mpeak_indices\u001b[49m\u001b[43m,\u001b[49m\u001b[43m \u001b[49m\u001b[43mresidual_data\u001b[49m\u001b[43m,\u001b[49m\u001b[43m \u001b[49m\u001b[43mpeak_dictionary\u001b[49m\u001b[43m)\u001b[49m\n\u001b[1;32m    863\u001b[0m \u001b[38;5;28mprint\u001b[39m(\u001b[38;5;124m'\u001b[39m\u001b[38;5;124mfit shoulders done\u001b[39m\u001b[38;5;124m'\u001b[39m)\n\u001b[1;32m    864\u001b[0m peak_dictionary \u001b[38;5;241m=\u001b[39m \u001b[38;5;28mself\u001b[39m\u001b[38;5;241m.\u001b[39mfit_all(x, y_bgsub, peak_dictionary)\n",
      "File \u001b[0;32m~/Projects/github/alibz/peaky_finder.py:732\u001b[0m, in \u001b[0;36mPeakyFinder.fit_shoulders\u001b[0;34m(self, x, y, peak_indices, residuals, peak_dictionary, rng)\u001b[0m\n\u001b[1;32m    729\u001b[0m         hwhm_ws \u001b[38;5;241m=\u001b[39m np\u001b[38;5;241m.\u001b[39marray([hwhm_ws])\n\u001b[1;32m    731\u001b[0m     \u001b[38;5;28;01mfor\u001b[39;00m i, (full_max, fwhm, hwhm, pp) \u001b[38;5;129;01min\u001b[39;00m \u001b[38;5;28menumerate\u001b[39m(\u001b[38;5;28mzip\u001b[39m(fm_ws, fwhm_ws, hwhm_ws, window_shoulders)):\n\u001b[0;32m--> 732\u001b[0m         x0[i] \u001b[38;5;241m=\u001b[39m \u001b[43mnp\u001b[49m\u001b[38;5;241;43m.\u001b[39;49m\u001b[43marray\u001b[49m\u001b[43m(\u001b[49m\u001b[43m[\u001b[49m\u001b[43mfull_max\u001b[49m\u001b[43m,\u001b[49m\u001b[43m \u001b[49m\u001b[43mx\u001b[49m\u001b[43m[\u001b[49m\u001b[43mnode_left\u001b[49m\u001b[43m \u001b[49m\u001b[38;5;241;43m+\u001b[39;49m\u001b[43m \u001b[49m\u001b[43mpp\u001b[49m\u001b[43m]\u001b[49m\u001b[43m,\u001b[49m\u001b[43m \u001b[49m\u001b[43minc\u001b[49m\u001b[43m \u001b[49m\u001b[38;5;241;43m*\u001b[39;49m\u001b[43m \u001b[49m\u001b[43mfwhm\u001b[49m\u001b[43m,\u001b[49m\u001b[43m \u001b[49m\u001b[43minc\u001b[49m\u001b[43m \u001b[49m\u001b[38;5;241;43m*\u001b[39;49m\u001b[43m \u001b[49m\u001b[43mhwhm\u001b[49m\u001b[43m]\u001b[49m\u001b[43m)\u001b[49m\n\u001b[1;32m    734\u001b[0m x0 \u001b[38;5;241m=\u001b[39m np\u001b[38;5;241m.\u001b[39mravel(x0) \u001b[38;5;66;03m# flatten to pass to least squares fit\u001b[39;00m\n\u001b[1;32m    735\u001b[0m upper_bounds[::\u001b[38;5;241m4\u001b[39m] \u001b[38;5;241m=\u001b[39m \u001b[38;5;241m5\u001b[39m \u001b[38;5;241m*\u001b[39m x0[::\u001b[38;5;241m4\u001b[39m]\n",
      "\u001b[0;31mValueError\u001b[0m: setting an array element with a sequence. The requested array has an inhomogeneous shape after 1 dimensions. The detected shape was (4,) + inhomogeneous part."
     ]
    }
   ],
   "source": [
    "finder_dict = finder.fit_spectrum_data(25, n_sigma=1)"
   ]
  },
  {
   "cell_type": "code",
   "execution_count": 26,
   "metadata": {},
   "outputs": [
    {
     "ename": "AttributeError",
     "evalue": "Run `ground_state` before calling `anchor_peaks`.",
     "output_type": "error",
     "traceback": [
      "\u001b[0;31m---------------------------------------------------------------------------\u001b[0m",
      "\u001b[0;31mAttributeError\u001b[0m                            Traceback (most recent call last)",
      "Cell \u001b[0;32mIn[26], line 1\u001b[0m\n\u001b[0;32m----> 1\u001b[0m \u001b[43mindexer\u001b[49m\u001b[38;5;241;43m.\u001b[39;49m\u001b[43manchor_peaks\u001b[49m\u001b[43m(\u001b[49m\u001b[43mfinder_dict\u001b[49m\u001b[43m[\u001b[49m\u001b[38;5;124;43m'\u001b[39;49m\u001b[38;5;124;43msorted_parameter_array\u001b[39;49m\u001b[38;5;124;43m'\u001b[39;49m\u001b[43m]\u001b[49m\u001b[43m)\u001b[49m\n",
      "File \u001b[0;32m~/Projects/github/alibz/peaky_indexer.py:120\u001b[0m, in \u001b[0;36mPeakyIndexer.anchor_peaks\u001b[0;34m(self, peak_array, shift_tolerance)\u001b[0m\n\u001b[1;32m    101\u001b[0m \u001b[38;5;250m\u001b[39m\u001b[38;5;124;03m\"\"\"Identify unambiguous ground-state transitions in fitted peaks.\u001b[39;00m\n\u001b[1;32m    102\u001b[0m \n\u001b[1;32m    103\u001b[0m \u001b[38;5;124;03mParameters\u001b[39;00m\n\u001b[0;32m   (...)\u001b[0m\n\u001b[1;32m    116\u001b[0m \u001b[38;5;124;03m    of matched peaks.\u001b[39;00m\n\u001b[1;32m    117\u001b[0m \u001b[38;5;124;03m\"\"\"\u001b[39;00m\n\u001b[1;32m    119\u001b[0m \u001b[38;5;28;01mif\u001b[39;00m \u001b[38;5;129;01mnot\u001b[39;00m \u001b[38;5;28mhasattr\u001b[39m(\u001b[38;5;28mself\u001b[39m, \u001b[38;5;124m\"\u001b[39m\u001b[38;5;124mground_states\u001b[39m\u001b[38;5;124m\"\u001b[39m):\n\u001b[0;32m--> 120\u001b[0m     \u001b[38;5;28;01mraise\u001b[39;00m \u001b[38;5;167;01mAttributeError\u001b[39;00m(\u001b[38;5;124m\"\u001b[39m\u001b[38;5;124mRun `ground_state` before calling `anchor_peaks`.\u001b[39m\u001b[38;5;124m\"\u001b[39m)\n\u001b[1;32m    122\u001b[0m peak_centers \u001b[38;5;241m=\u001b[39m peak_array[:, \u001b[38;5;241m1\u001b[39m]\n\u001b[1;32m    123\u001b[0m anchors: DefaultDict[\u001b[38;5;28mstr\u001b[39m, DefaultDict[\u001b[38;5;28mstr\u001b[39m, List[\u001b[38;5;28mfloat\u001b[39m]]] \u001b[38;5;241m=\u001b[39m defaultdict(\u001b[38;5;28;01mlambda\u001b[39;00m: defaultdict(\u001b[38;5;28mlist\u001b[39m))\n",
      "\u001b[0;31mAttributeError\u001b[0m: Run `ground_state` before calling `anchor_peaks`."
     ]
    }
   ],
   "source": [
    "indexer.anchor_peaks(finder_dict['sorted_parameter_array'])"
   ]
  },
  {
   "cell_type": "code",
   "execution_count": 12,
   "metadata": {},
   "outputs": [
    {
     "data": {
      "text/plain": [
       "array([[7.61397815e+03, 3.93291934e+02, 1.29149251e-01, 1.15929836e-01],\n",
       "       [7.16360817e+03, 3.96769328e+02, 5.41765972e-02, 1.51946017e-01],\n",
       "       [4.18224360e+03, 4.23133334e+02, 8.37163934e-01, 0.00000000e+00],\n",
       "       ...,\n",
       "       [1.56194723e+00, 6.37513930e+02, 4.91359377e-02, 0.00000000e+00],\n",
       "       [1.51469067e+00, 2.88923900e+02, 3.07479980e-02, 0.00000000e+00],\n",
       "       [1.36359970e+00, 2.84697983e+02, 2.87991689e-02, 0.00000000e+00]],\n",
       "      shape=(281, 4))"
      ]
     },
     "execution_count": 12,
     "metadata": {},
     "output_type": "execute_result"
    }
   ],
   "source": [
    "finder_dict['sorted_parameter_array']"
   ]
  },
  {
   "cell_type": "code",
   "execution_count": 13,
   "metadata": {},
   "outputs": [],
   "source": [
    "test_dict = indexer.peak_match(finder_dict['sorted_parameter_array'], element_list=['Li', 'Mg'])"
   ]
  },
  {
   "cell_type": "code",
   "execution_count": 14,
   "metadata": {},
   "outputs": [],
   "source": [
    "import numpy as np\n",
    "import matplotlib.pyplot as plt"
   ]
  },
  {
   "cell_type": "code",
   "execution_count": 34,
   "metadata": {},
   "outputs": [
    {
     "data": {
      "text/plain": [
       "{np.int64(3): array([670.961    , 671.0260627]),\n",
       " np.int64(6): array([670.961     , 670.65765877]),\n",
       " np.int64(143): array([239.5116, 239.8   ]),\n",
       " np.int64(148): array([670.961, 671.7  ]),\n",
       " np.int64(156): array([242.6163    , 243.43241612]),\n",
       " np.int64(166): array([670.961     , 670.19398663]),\n",
       " np.int64(185): array([237.4267    , 238.14877815]),\n",
       " np.int64(192): array([247.5809    , 248.26007889])}"
      ]
     },
     "execution_count": 34,
     "metadata": {},
     "output_type": "execute_result"
    }
   ],
   "source": [
    "test_dict['Li'].ions[1.0]"
   ]
  },
  {
   "cell_type": "code",
   "execution_count": 31,
   "metadata": {},
   "outputs": [
    {
     "data": {
      "text/plain": [
       "array([3.62290218e+03, 6.71026063e+02, 6.17136270e-01, 0.00000000e+00])"
      ]
     },
     "execution_count": 31,
     "metadata": {},
     "output_type": "execute_result"
    }
   ],
   "source": [
    "finder_dict['sorted_parameter_array'][3]"
   ]
  },
  {
   "cell_type": "code",
   "execution_count": 37,
   "metadata": {},
   "outputs": [
    {
     "data": {
      "text/plain": [
       "{np.float64(2.0): {np.int64(63): array([279.6352    , 279.47385674]),\n",
       "  np.int64(78): array([279.6352    , 280.19298892]),\n",
       "  np.int64(157): array([279.6352    , 279.72467147]),\n",
       "  np.int64(204): array([279.6352    , 279.02301169]),\n",
       "  np.int64(213): array([279.6352    , 280.36666667]),\n",
       "  np.int64(221): array([279.6352    , 279.90000056]),\n",
       "  np.int64(251): array([280.3531   , 280.6615508]),\n",
       "  np.int64(268): array([280.3531    , 281.02997825])},\n",
       " np.float64(1.0): {np.int64(66): array([285.29642   , 285.14029478]),\n",
       "  np.int64(274): array([285.29642   , 285.71474191]),\n",
       "  np.int64(277): array([285.29642   , 285.94313686]),\n",
       "  np.int64(280): array([285.29642  , 284.6979834])}}"
      ]
     },
     "execution_count": 37,
     "metadata": {},
     "output_type": "execute_result"
    }
   ],
   "source": [
    "test_dict['Mg'].ions"
   ]
  },
  {
   "cell_type": "code",
   "execution_count": 38,
   "metadata": {},
   "outputs": [
    {
     "data": {
      "text/plain": [
       "array([2.19533333e+02, 2.80192989e+02, 6.82138962e-02, 0.00000000e+00])"
      ]
     },
     "execution_count": 38,
     "metadata": {},
     "output_type": "execute_result"
    }
   ],
   "source": [
    "finder_dict['sorted_parameter_array'][78]"
   ]
  },
  {
   "cell_type": "code",
   "execution_count": 24,
   "metadata": {},
   "outputs": [],
   "source": [
    "test_locs = np.array(list(test_dict['Li'].ions[1.0].values()))"
   ]
  },
  {
   "cell_type": "code",
   "execution_count": 25,
   "metadata": {},
   "outputs": [
    {
     "data": {
      "text/plain": [
       "array([[670.961     , 671.0260627 ],\n",
       "       [670.961     , 670.65765877],\n",
       "       [239.5116    , 239.8       ],\n",
       "       [670.961     , 671.7       ],\n",
       "       [242.6163    , 243.43241612],\n",
       "       [670.961     , 670.19398663],\n",
       "       [237.4267    , 238.14877815],\n",
       "       [247.5809    , 248.26007889]])"
      ]
     },
     "execution_count": 25,
     "metadata": {},
     "output_type": "execute_result"
    }
   ],
   "source": [
    "test_locs"
   ]
  },
  {
   "cell_type": "code",
   "execution_count": 46,
   "metadata": {},
   "outputs": [
    {
     "data": {
      "text/plain": [
       "<matplotlib.collections.PathCollection at 0x356949090>"
      ]
     },
     "execution_count": 46,
     "metadata": {},
     "output_type": "execute_result"
    },
    {
     "data": {
      "image/png": "[encoded data removed]",
      "text/plain": [
       "<Figure size 640x480 with 1 Axes>"
      ]
     },
     "metadata": {},
     "output_type": "display_data"
    }
   ],
   "source": [
    "plt.scatter(test_locs[:,0], test_locs[:,1])"
   ]
  }
 ],
 "metadata": {
  "kernelspec": {
   "display_name": "peakyfinder",
   "language": "python",
   "name": "python3"
  },
  "language_info": {
   "codemirror_mode": {
    "name": "ipython",
    "version": 3
   },
   "file_extension": ".py",
   "mimetype": "text/x-python",
   "name": "python",
   "nbconvert_exporter": "python",
   "pygments_lexer": "ipython3",
   "version": "3.13.2"
  }
 },
 "nbformat": 4,
 "nbformat_minor": 2
}
